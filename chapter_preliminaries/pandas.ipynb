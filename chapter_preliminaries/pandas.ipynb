{
 "cells": [
  {
   "cell_type": "markdown",
   "metadata": {
    "origin_pos": 0,
    "slideshow": {
     "slide_type": "slide"
    }
   },
   "source": [
    "### Data Preprocessing\n",
    "\n",
    "Let's begin by reading the dataset. We use `pandas` to read an artificial CSV dataset. A great Pandas tutorial is `pandas.pydata.org/pandas-docs/stable/user_guide/10min.html`."
   ]
  },
  {
   "cell_type": "code",
   "execution_count": 1,
   "metadata": {
    "ExecuteTime": {
     "end_time": "2021-01-05T23:18:57.393145Z",
     "start_time": "2021-01-05T23:18:57.388244Z"
    },
    "origin_pos": 1,
    "tab": [
     "pytorch"
    ]
   },
   "outputs": [],
   "source": [
    "import os\n",
    "import pandas as pd\n",
    "\n",
    "os.makedirs(os.path.join('..', 'data'), exist_ok=True)\n",
    "data_file = os.path.join('..', 'data', 'house_tiny.csv')\n",
    "with open(data_file, 'w') as f:\n",
    "    f.write('''County,Rooms,Price,Size\n",
    "               Santa Clara,NA,127500,1050\n",
    "               NA,3,106000,2000\n",
    "               Santa Cruz,4,178100,1570\n",
    "               NA,NA,140000,3700''')"
   ]
  },
  {
   "cell_type": "markdown",
   "metadata": {
    "origin_pos": 2,
    "slideshow": {
     "slide_type": "-"
    }
   },
   "source": [
    "Let's load the dataset using `read_csv`."
   ]
  },
  {
   "cell_type": "code",
   "execution_count": 2,
   "metadata": {
    "ExecuteTime": {
     "end_time": "2021-01-05T23:18:57.850363Z",
     "start_time": "2021-01-05T23:18:57.395016Z"
    },
    "origin_pos": 3,
    "tab": [
     "pytorch"
    ]
   },
   "outputs": [],
   "source": [
    "data = pd.read_csv(data_file)"
   ]
  },
  {
   "cell_type": "markdown",
   "metadata": {
    "slideshow": {
     "slide_type": "slide"
    }
   },
   "source": [
    "### Data Frames\n",
    "\n",
    "Data frames behave like a matrix, just with entries of different types. Let's look at our tiny house dataset."
   ]
  },
  {
   "cell_type": "code",
   "execution_count": 3,
   "metadata": {},
   "outputs": [
    {
     "data": {
      "text/html": [
       "<div>\n",
       "<style scoped>\n",
       "    .dataframe tbody tr th:only-of-type {\n",
       "        vertical-align: middle;\n",
       "    }\n",
       "\n",
       "    .dataframe tbody tr th {\n",
       "        vertical-align: top;\n",
       "    }\n",
       "\n",
       "    .dataframe thead th {\n",
       "        text-align: right;\n",
       "    }\n",
       "</style>\n",
       "<table border=\"1\" class=\"dataframe\">\n",
       "  <thead>\n",
       "    <tr style=\"text-align: right;\">\n",
       "      <th></th>\n",
       "      <th>County</th>\n",
       "      <th>Rooms</th>\n",
       "      <th>Price</th>\n",
       "      <th>Size</th>\n",
       "    </tr>\n",
       "  </thead>\n",
       "  <tbody>\n",
       "    <tr>\n",
       "      <th>0</th>\n",
       "      <td>Santa Clara</td>\n",
       "      <td>NaN</td>\n",
       "      <td>127500</td>\n",
       "      <td>1050</td>\n",
       "    </tr>\n",
       "    <tr>\n",
       "      <th>1</th>\n",
       "      <td>NA</td>\n",
       "      <td>3.0</td>\n",
       "      <td>106000</td>\n",
       "      <td>2000</td>\n",
       "    </tr>\n",
       "    <tr>\n",
       "      <th>2</th>\n",
       "      <td>Santa Cruz</td>\n",
       "      <td>4.0</td>\n",
       "      <td>178100</td>\n",
       "      <td>1570</td>\n",
       "    </tr>\n",
       "    <tr>\n",
       "      <th>3</th>\n",
       "      <td>NA</td>\n",
       "      <td>NaN</td>\n",
       "      <td>140000</td>\n",
       "      <td>3700</td>\n",
       "    </tr>\n",
       "  </tbody>\n",
       "</table>\n",
       "</div>"
      ],
      "text/plain": [
       "                       County  Rooms   Price  Size\n",
       "0                 Santa Clara    NaN  127500  1050\n",
       "1                          NA    3.0  106000  2000\n",
       "2                  Santa Cruz    4.0  178100  1570\n",
       "3                          NA    NaN  140000  3700"
      ]
     },
     "execution_count": 3,
     "metadata": {},
     "output_type": "execute_result"
    }
   ],
   "source": [
    "data"
   ]
  },
  {
   "cell_type": "markdown",
   "metadata": {},
   "source": [
    "We can select columns via the keywords, e.g. `data['County']` selects the name of the street, whereas `data[1:3]` selects rows 1 and 2. Obviously these indices can be combined using the `loc` method. Even better, columns are named variables!"
   ]
  },
  {
   "cell_type": "code",
   "execution_count": 4,
   "metadata": {},
   "outputs": [
    {
     "name": "stdout",
     "output_type": "stream",
     "text": [
      "   Rooms   Price\n",
      "1    3.0  106000\n",
      "2    4.0  178100\n",
      "3    NaN  140000\n",
      "               Santa Clara\n"
     ]
    }
   ],
   "source": [
    "print(data.loc[1:3,['Rooms','Price']])\n",
    "print(data.County[0])"
   ]
  },
  {
   "cell_type": "markdown",
   "metadata": {
    "slideshow": {
     "slide_type": "slide"
    }
   },
   "source": [
    "There are a few more useful operations, e.g. to display data types `dtypes` and to `describe()` the data."
   ]
  },
  {
   "cell_type": "code",
   "execution_count": 5,
   "metadata": {},
   "outputs": [
    {
     "name": "stdout",
     "output_type": "stream",
     "text": [
      "County     object\n",
      "Rooms     float64\n",
      "Price       int64\n",
      "Size        int64\n",
      "dtype: object\n",
      "          Rooms         Price         Size\n",
      "count  2.000000       4.00000     4.000000\n",
      "mean   3.500000  137900.00000  2080.000000\n",
      "std    0.707107   30255.68817  1147.722382\n",
      "min    3.000000  106000.00000  1050.000000\n",
      "25%    3.250000  122125.00000  1440.000000\n",
      "50%    3.500000  133750.00000  1785.000000\n",
      "75%    3.750000  149525.00000  2425.000000\n",
      "max    4.000000  178100.00000  3700.000000\n"
     ]
    }
   ],
   "source": [
    "print(data.dtypes)\n",
    "print(data.describe())"
   ]
  },
  {
   "cell_type": "markdown",
   "metadata": {
    "origin_pos": 4,
    "slideshow": {
     "slide_type": "slide"
    }
   },
   "source": [
    "### Handling Missing Data\n",
    "\n",
    "`NaN` are missing values. We replace them by their mean (via *imputation*). \n",
    "We split `data` into `inputs` and `outputs`. Note that for brevity we could also use `iloc` to index columns by position rather than name."
   ]
  },
  {
   "cell_type": "code",
   "execution_count": 6,
   "metadata": {
    "ExecuteTime": {
     "end_time": "2021-01-05T23:18:57.860120Z",
     "start_time": "2021-01-05T23:18:57.852668Z"
    },
    "origin_pos": 5,
    "tab": [
     "pytorch"
    ]
   },
   "outputs": [
    {
     "name": "stdout",
     "output_type": "stream",
     "text": [
      "                       County  Rooms  Size\n",
      "0                 Santa Clara    NaN  1050\n",
      "1                          NA    3.0  2000\n",
      "2                  Santa Cruz    4.0  1570\n",
      "3                          NA    NaN  3700\n"
     ]
    }
   ],
   "source": [
    "inputs, outputs = data.loc[:, ['County','Rooms','Size']], data.loc[:, 'Price']\n",
    "print(inputs)"
   ]
  },
  {
   "cell_type": "markdown",
   "metadata": {
    "origin_pos": 6
   },
   "source": [
    "For categorical or discrete values we consider `NA` and `NaN` respectively as a category. For the `County` column this works by encoding categories as one-hot. "
   ]
  },
  {
   "cell_type": "code",
   "execution_count": 7,
   "metadata": {
    "ExecuteTime": {
     "end_time": "2021-01-05T23:18:57.870564Z",
     "start_time": "2021-01-05T23:18:57.861590Z"
    },
    "origin_pos": 7,
    "slideshow": {
     "slide_type": "slide"
    },
    "tab": [
     "pytorch"
    ]
   },
   "outputs": [
    {
     "name": "stdout",
     "output_type": "stream",
     "text": [
      "   Rooms    Size  County_               NA  County_               Santa Clara  \\\n",
      "0    3.5  1050.0                       0.0                                1.0   \n",
      "1    3.0  2000.0                       1.0                                0.0   \n",
      "2    4.0  1570.0                       0.0                                0.0   \n",
      "3    3.5  3700.0                       1.0                                0.0   \n",
      "\n",
      "   County_               Santa Cruz  Rooms  \n",
      "0                               0.0    0.0  \n",
      "1                               0.0    1.0  \n",
      "2                               1.0    1.0  \n",
      "3                               0.0    0.0  \n"
     ]
    }
   ],
   "source": [
    "inputs = pd.get_dummies(inputs, columns=['County'])\n",
    "missingRooms = (inputs.Rooms == inputs.Rooms) #preserve NaNs\n",
    "inputs = inputs.fillna(inputs.mean())\n",
    "inputs = pd.concat([inputs, missingRooms], axis=1).astype('float64')\n",
    "print(inputs)"
   ]
  },
  {
   "cell_type": "markdown",
   "metadata": {
    "origin_pos": 8,
    "slideshow": {
     "slide_type": "slide"
    }
   },
   "source": [
    "### Conversion to the Tensor Format\n",
    "\n",
    "Now that all the entries in `inputs` and `outputs` are numerical, they can be converted to the tensor format."
   ]
  },
  {
   "cell_type": "code",
   "execution_count": 8,
   "metadata": {
    "ExecuteTime": {
     "end_time": "2021-01-05T23:18:58.269993Z",
     "start_time": "2021-01-05T23:18:57.872655Z"
    },
    "origin_pos": 10,
    "tab": [
     "pytorch"
    ]
   },
   "outputs": [
    {
     "data": {
      "text/plain": [
       "(tensor([[3.5000e+00, 1.0500e+03, 0.0000e+00, 1.0000e+00, 0.0000e+00, 0.0000e+00],\n",
       "         [3.0000e+00, 2.0000e+03, 1.0000e+00, 0.0000e+00, 0.0000e+00, 1.0000e+00],\n",
       "         [4.0000e+00, 1.5700e+03, 0.0000e+00, 0.0000e+00, 1.0000e+00, 1.0000e+00],\n",
       "         [3.5000e+00, 3.7000e+03, 1.0000e+00, 0.0000e+00, 0.0000e+00, 0.0000e+00]],\n",
       "        dtype=torch.float64),\n",
       " tensor([127500, 106000, 178100, 140000]))"
      ]
     },
     "execution_count": 8,
     "metadata": {},
     "output_type": "execute_result"
    }
   ],
   "source": [
    "import torch\n",
    "\n",
    "X, y = torch.tensor(inputs.values), torch.tensor(outputs.values)\n",
    "X, y"
   ]
  },
  {
   "cell_type": "code",
   "execution_count": null,
   "metadata": {},
   "outputs": [],
   "source": []
  }
 ],
 "metadata": {
  "celltoolbar": "Slideshow",
  "kernelspec": {
   "display_name": "Python 3",
   "language": "python",
   "name": "python3"
  },
  "language_info": {
   "codemirror_mode": {
    "name": "ipython",
    "version": 3
   },
   "file_extension": ".py",
   "mimetype": "text/x-python",
   "name": "python",
   "nbconvert_exporter": "python",
   "pygments_lexer": "ipython3",
   "version": "3.7.7"
  },
  "rise": {
   "backimage": "background.png",
   "enable_chalkboard": true
  }
 },
 "nbformat": 4,
 "nbformat_minor": 4
}
